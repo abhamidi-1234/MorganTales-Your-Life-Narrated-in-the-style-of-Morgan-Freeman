{
  "cells": [
    {
      "cell_type": "markdown",
      "source": [
        "## Install the necessary libraries"
      ],
      "metadata": {
        "id": "93QGi0lufFXp"
      }
    },
    {
      "cell_type": "code",
      "source": [
        "!pip install openai -q\n",
        "!pip install elevenlabs -q\n",
        "!pip install moviepy -q"
      ],
      "metadata": {
        "id": "m8YyLfHDTvhj"
      },
      "execution_count": null,
      "outputs": []
    },
    {
      "cell_type": "code",
      "execution_count": null,
      "metadata": {
        "id": "p_N4OlfsS_Ng"
      },
      "outputs": [],
      "source": [
        "from IPython.display import display, Image, Audio\n",
        "import cv2\n",
        "import base64\n",
        "from openai import OpenAI"
      ]
    },
    {
      "cell_type": "markdown",
      "source": [
        "## Read the video and capture each frame"
      ],
      "metadata": {
        "id": "FY-tqvd2fKOe"
      }
    },
    {
      "cell_type": "code",
      "execution_count": null,
      "metadata": {
        "colab": {
          "base_uri": "https://localhost:8080/"
        },
        "id": "NETNcrDjS_Nk",
        "outputId": "cc63891c-a8d8-419e-8b4e-b96af9256501"
      },
      "outputs": [
        {
          "output_type": "stream",
          "name": "stdout",
          "text": [
            "42 frames read.\n"
          ]
        }
      ],
      "source": [
        "video = cv2.VideoCapture(\"Bicepcurl.mp4\")\n",
        "\n",
        "base64Frames = []\n",
        "while video.isOpened():\n",
        "    success, frame = video.read()\n",
        "    if not success:\n",
        "        break\n",
        "    _, buffer = cv2.imencode(\".jpg\", frame)\n",
        "    base64Frames.append(base64.b64encode(buffer).decode(\"utf-8\"))\n",
        "\n",
        "video.release()\n",
        "print(len(base64Frames), \"frames read.\")"
      ]
    },
    {
      "cell_type": "markdown",
      "source": [
        "## Prompt Engineering"
      ],
      "metadata": {
        "id": "Rx-98iefmNSb"
      }
    },
    {
      "cell_type": "code",
      "execution_count": null,
      "metadata": {
        "colab": {
          "base_uri": "https://localhost:8080/"
        },
        "id": "4yOsyM-fS_Nl",
        "outputId": "74915946-fe8e-4ee2-a0b9-6adc366d0a91"
      },
      "outputs": [
        {
          "output_type": "stream",
          "name": "stdout",
          "text": [
            "[Excited, warm intonation, a slight chuckle in the voice]\n",
            "\"Ladies and gentlemen, what we are witnessing here is no ordinary feat. This courageous individual is embarking on a journey, a voyage into the realm of iron and sweat. Each lift, each curl, a Herculean effort defying the very laws of gravity itself. Behold the determination etched onto their visage, the pure concentration as muscles contract and expand in a beautiful dance of human strength and resilience. Oh, the thrill, the adventure, the raw power of the human spirit captured in this symphony of motion. Truly, an exhilarating spectacle to behold - the daily odyssey of the gym warrior!\"\n"
          ]
        }
      ],
      "source": [
        "PROMPT_MESSAGES = [\n",
        "    {\n",
        "        \"role\": \"user\",\n",
        "        \"content\": [\n",
        "            \"These are frames of a video. Create a very short voiceover script in the style of a super excited narrator similar to Morgan Freeman. Except he's narrating the point of view of a human doing mundane activities but he is still super excited.\",\n",
        "            *map(lambda x: {\"image\": x, \"resize\": 768}, base64Frames[0::10]),\n",
        "        ],\n",
        "    },\n",
        "]\n",
        "params = {\n",
        "    \"model\": \"gpt-4-vision-preview\",\n",
        "    \"messages\": PROMPT_MESSAGES,\n",
        "    \"max_tokens\": 500,\n",
        "}\n",
        "\n",
        "client = OpenAI(\n",
        "    # This is the default and can be omitted\n",
        "    api_key=''\n",
        ")\n",
        "\n",
        "result = client.chat.completions.create(**params)\n",
        "print(result.choices[0].message.content)"
      ]
    },
    {
      "cell_type": "code",
      "execution_count": null,
      "metadata": {
        "colab": {
          "base_uri": "https://localhost:8080/"
        },
        "id": "Nb5PFoH7S_Nm",
        "outputId": "766eccfe-d377-441a-eb35-608d361e49ae"
      },
      "outputs": [
        {
          "output_type": "stream",
          "name": "stdout",
          "text": [
            "\"Ladies and gentlemen, witness this incredible journey! The power defying gravity with every lift, the determination and concentration. See the muscles dance, a testament of strength. The thrill, the spirit of our gym warrior conquering daily. Remarkable, breathtaking!\"\n"
          ]
        }
      ],
      "source": [
        "PROMPT_MESSAGES = [\n",
        "     {\n",
        "            \"role\": \"user\",\n",
        "            \"content\": f\"Shorten this script so it can be read in about 17 seconds: {result.choices[0].message.content}\",\n",
        "        }\n",
        "]\n",
        "params = {\n",
        "    \"model\": \"gpt-4\",\n",
        "    \"messages\": PROMPT_MESSAGES,\n",
        "    \"max_tokens\": 500,\n",
        "}\n",
        "\n",
        "result = client.chat.completions.create(**params)\n",
        "print(result.choices[0].message.content)"
      ]
    },
    {
      "cell_type": "markdown",
      "source": [
        "## Text to Speech"
      ],
      "metadata": {
        "id": "j8WB4NRhmU8J"
      }
    },
    {
      "cell_type": "code",
      "execution_count": null,
      "metadata": {
        "id": "UbWWE66LS_Nm"
      },
      "outputs": [],
      "source": [
        "from elevenlabs import generate, play, set_api_key\n",
        "set_api_key(\"\")\n",
        "audio = generate(\n",
        "    text=result.choices[0].message.content,\n",
        "    voice=\"Oliver - Documentary Narration\",\n",
        "    model='eleven_multilingual_v2'\n",
        ")\n",
        "\n",
        "play(audio)"
      ]
    },
    {
      "cell_type": "markdown",
      "source": [
        "## Add the TTS audio to the video clip"
      ],
      "metadata": {
        "id": "KKntEZwGmYDp"
      }
    },
    {
      "cell_type": "code",
      "execution_count": null,
      "metadata": {
        "colab": {
          "base_uri": "https://localhost:8080/"
        },
        "id": "9EWnr_c4S_Nn",
        "outputId": "a4a75464-ca7f-4942-ec2a-5c9e3ed01a69"
      },
      "outputs": [
        {
          "output_type": "stream",
          "name": "stdout",
          "text": [
            "Moviepy - Building video Exercise Narration.mp4.\n",
            "MoviePy - Writing audio in Exercise NarrationTEMP_MPY_wvf_snd.mp3\n"
          ]
        },
        {
          "output_type": "stream",
          "name": "stderr",
          "text": []
        },
        {
          "output_type": "stream",
          "name": "stdout",
          "text": [
            "MoviePy - Done.\n",
            "Moviepy - Writing video Exercise Narration.mp4\n",
            "\n"
          ]
        },
        {
          "output_type": "stream",
          "name": "stderr",
          "text": []
        },
        {
          "output_type": "stream",
          "name": "stdout",
          "text": [
            "Moviepy - Done !\n",
            "Moviepy - video ready Exercise Narration.mp4\n"
          ]
        }
      ],
      "source": [
        "from moviepy.editor import VideoFileClip, AudioFileClip, concatenate_videoclips\n",
        "import os\n",
        "\n",
        "video_clip = VideoFileClip(\"seated-biceps-curl.mp4\")\n",
        "audio_clip = AudioFileClip(\"Audio.mp3\")\n",
        "\n",
        "final_clip = video_clip.set_audio(audio_clip)\n",
        "\n",
        "title = 'Exercise Narration'\n",
        "\n",
        "final_clip.write_videofile(title + \".mp4\")"
      ]
    }
  ],
  "metadata": {
    "kernelspec": {
      "display_name": "Python 3",
      "language": "python",
      "name": "python3"
    },
    "language_info": {
      "codemirror_mode": {
        "name": "ipython",
        "version": 3
      },
      "file_extension": ".py",
      "mimetype": "text/x-python",
      "name": "python",
      "nbconvert_exporter": "python",
      "pygments_lexer": "ipython3",
      "version": "3.10.12"
    },
    "colab": {
      "provenance": []
    }
  },
  "nbformat": 4,
  "nbformat_minor": 0
}